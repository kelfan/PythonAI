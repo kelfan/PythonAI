{
 "cells": [
  {
   "cell_type": "code",
   "execution_count": 82,
   "metadata": {
    "collapsed": true
   },
   "outputs": [],
   "source": [
    "import numpy as np \n",
    "# 定义感知器类 \n",
    "class Perceptron(object):\n",
    "    # 定义初始化函数 \n",
    "    \"\"\"\n",
    "    eta: 学习率\n",
    "    n_iter: 权重向量的训练次数\n",
    "    w_: 神经分叉权重向量\n",
    "    errors_: 用于记录神经元判断出错次数， 神经元预测错误数，根据这个数来判断神经元的预测效果\n",
    "    \"\"\"\n",
    "    def __init__(self, eta = 0.01, n_iter=10):\n",
    "        # 简单初始化 \n",
    "        self.eta = eta \n",
    "        self.n_iter = n_iter\n",
    "        pass\n",
    "    # 函数：根据输入的样本进行神经元的培训\n",
    "    def fit(self, X, y):\n",
    "        \"\"\"\n",
    "        输入训练数据，培训神经元，X输入样本向量，y对应样本分类\n",
    "        \n",
    "        X：shape[n_samples, n_features]\n",
    "        X:[[1,2,3], [4,5,6]]\n",
    "        n_samples： 2 因为有两个向量\n",
    "        n_features: 3 因为每个向量有3个电信号\n",
    "        \n",
    "        y:[1, -1] 表示分类，前面[1,2,3]就是分类1， 后面[4,5,6]就是分类 -1\n",
    "        \"\"\"\n",
    "        \n",
    "        # 初始化权重向量为 0 \n",
    "        \"\"\"\n",
    "        W_ 就是权重 \n",
    "        np.zero： numpy类库函数全部初始化为 0 \n",
    "        X.shape[1] 就是 n_samples 就是向量个数 \n",
    "        (1+X.shape[1]) 加一是因为前面算法提到的w0，也就是步调函数阈值\n",
    "        \"\"\"\n",
    "        self.w_ =np.zeros(1 + X.shape[1]);\n",
    "        self.errors_ = [] # 错误向量作为空的数组\n",
    "        \n",
    "        # 进入训练过程\n",
    "        for _ in range(self.n_iter): # 训练 n_iter 次，如果训练这么多次还不行的话，就终止\n",
    "            errors = 0 \n",
    "            \"\"\"\n",
    "            X:[1,2,3],[4,5,6]\n",
    "            y:[1, -1]\n",
    "            zip(X,y) = [1,2,3, 1], [4,5,6, -1]\n",
    "            \"\"\"\n",
    "            for xi, target in zip(X,y):\n",
    "                \"\"\"\n",
    "                update = η * （y - y') \n",
    "                η \\eta 是学习率\n",
    "                \"\"\"\n",
    "                update = self.eta * (target - self.predict(xi))\n",
    "                \"\"\"\n",
    "                xi 是向量 \n",
    "                update 是常量\n",
    "                update * xi 等价 (ΔW(1) = X[1]*udpate, Δw(2) = X[2]*update, ΔW(3) = X[3]*update)\n",
    "                [1:] 表示忽略第0个元素，从第1个元素开始\n",
    "                \"\"\"\n",
    "                self.w_[1:] += update * xi\n",
    "                self.w_[0] += update #阈值更新 w 的第0个元素是阈值 \n",
    "                \n",
    "                \"\"\"\n",
    "                如果出现错误，统计错误的次数\n",
    "                错误的次数越来越少，模型的效果就越来越好，数据预测就越来越准确\n",
    "                \"\"\"\n",
    "                errors += int(update != 0.0 )\n",
    "                # 错误的统计次数放到错误列表中\n",
    "                self.errors_.append(errors)\n",
    "                pass\n",
    "            pass\n",
    "        # 数据的弱化，把输入数据和权重向量进行点积 \n",
    "        \"\"\"\n",
    "        z= w0*1 + w1*x1 + ... Wn*Xn \n",
    "        \"\"\"\n",
    "    # 向量的点积    \n",
    "    def net_input(self, X) :\n",
    "        \"\"\"\n",
    "        z = W0*1 + W1*X1 + W2*X2 + ... Wn*Xn\n",
    "        \"\"\"\n",
    "        return np.dot(X, self.w_[1:]) + self.w_[0]\n",
    "    pass\n",
    "\n",
    "    # 分类预测，大于0就是1，小于0就是-1\n",
    "    def predict(self, X) :\n",
    "        return np.where(self.net_input(X) >= 0.0 , 1, -1)\n",
    "    pass\n",
    "    pass"
   ]
  },
  {
   "cell_type": "code",
   "execution_count": 83,
   "metadata": {
    "collapsed": false
   },
   "outputs": [
    {
     "data": {
      "text/plain": [
       "<matplotlib.legend.Legend at 0xe7b5d7fac8>"
      ]
     },
     "execution_count": 83,
     "metadata": {},
     "output_type": "execute_result"
    }
   ],
   "source": [
    "file = \"./iris.data.csv\"\n",
    "import pandas as pd \n",
    "df = pd.read_csv(file, header=None) # 没有标题或文件头\n",
    "df.head(10) # 显示前10行\n",
    "\n",
    "# 可视化显示 \n",
    "import matplotlib.pyplot as plt \n",
    "import numpy as np \n",
    "y = df.loc[0:100, 4].values # 把0到100行的第4列的数据取出来\n",
    "# print (y) \n",
    "y = np.where(y == 'Iris-setosa', -1, 1) # 把Iris-setosa等字符串转成1或-1\n",
    "# print (y)\n",
    "X = df.iloc[0:100, [0,2]].values # 把第0列和第2列的数据抽取出来\n",
    "# 把x描绘出来 \n",
    "plt.scatter(X[:50, 0], X[:50,1], color='red', marker='o', label='setosa')\n",
    "plt.scatter(X[50:100, 0], X[50:100, 1], color='blue', marker='x', label='versicolor')\n",
    "plt.xlabel('花瓣长度')\n",
    "plt.ylabel('花茎长度')\n",
    "plt.legend(loc='upper left')\n",
    "plt.show()\n"
   ]
  },
  {
   "cell_type": "code",
   "execution_count": 84,
   "metadata": {
    "collapsed": false
   },
   "outputs": [
    {
     "data": {
      "image/png": "[encoded data removed]",
      "text/plain": [
       "<matplotlib.figure.Figure at 0xe7b5c59ba8>"
      ]
     },
     "metadata": {},
     "output_type": "display_data"
    }
   ],
   "source": [
    "ppn = Perceptron(eta=0.1, n_iter=10)\n",
    "ppn.fit(X, y)\n",
    "plt.plot(range(1, len(ppn.errors_) + 1), ppn.errors_, marker='o')\n",
    "plt.xlabel('Epochs')\n",
    "plt.ylabel('错误分类次数')\n",
    "plt.show()"
   ]
  },
  {
   "cell_type": "code",
   "execution_count": 88,
   "metadata": {
    "collapsed": false
   },
   "outputs": [],
   "source": [
    "from matplotlib.colors import ListedColormap  # 引入相关类库\n",
    "# 扩展数据得到两个矩阵\n",
    "def plot_decision_regions(X, y, classifier, resolution=0.02): # 定义函数\n",
    "    markers=('s', 'x', 'o', 'v') # 数据显示的相关信息\n",
    "    colors = ('red', 'blue', 'lightgreen', 'gray', 'cyan') # 数据显示的颜色\n",
    "    cmap = ListedColormap(colors[:len(np.unique(y))]) # 根据向量y的不同结果显示不同的颜色，向量y的结果是 1或-1，种类为2种，len为2，\n",
    "    \n",
    "    \"\"\"\n",
    "    X[:,0]是numpy中数组的一种写法，表示对一个二维数组，取该二维数组的所有第一维，第二维中取第0个数据，\n",
    "    直观来说，X[:,0]就是取所有行的第0个数据, X[:,1] 就是取所有行的第1个数据。\n",
    "    \"\"\"                                       \n",
    "    x1_min, x1_max = X[:, 0].min(), X[:, 0].max() # 获得花瓣长度的最大值和最小值\n",
    "    x2_min, x2_max = X[:, 1].min(), X[:, 1].max() # 获得花径长度的最大值和最小值\n",
    "    \n",
    "    # print(x1_min, x1_max)\n",
    "    # print(x2_min, x2_max)\n",
    "    \n",
    "    # xx1 是根据 x1_min, x1_max, resolution 的向量扩展为一个矩阵，xx2 同理\n",
    "    xx1, xx2 = np.meshgrid(np.arange(x1_min, x1_max, resolution),\n",
    "                           np.arange(x2_min, x2_max, resolution))\n",
    "    \"\"\"\n",
    "    print(np.arange(x1_min, x1_max, resolution).shape)\n",
    "    print(np.arange(x1_min, x1_max, resolution))\n",
    "    print(xx1.shape)\n",
    "    print(xx1)\n",
    "    print(np.arange(x2_min, x2_max, resolution).shape)\n",
    "    print(np.arange(x2_min, x2_max, resolution))\n",
    "    print(xx2.shape)\n",
    "    print(xx2)\n",
    "    \"\"\"\n",
    "    \n",
    "    # z存储模型分类后的结果 \n",
    "    # ravel()把扩展后的多维向量还原为单维向量 \n",
    "    Z = classifier.predict(np.array([xx1.ravel(), xx2.ravel()]).T)\n",
    "    # print(xx1.ravel())\n",
    "    # print(xx2.ravel())\n",
    "    # print(Z)\n",
    "    \n",
    "    # 绘制相关信息 \n",
    "    Z = Z.reshape(xx1.shape)\n",
    "    plt.contourf(xx1, xx2, Z, alpha=0.4, cmap=cmap)\n",
    "    plt.xlim(xx1.min(), xx1.max())\n",
    "    plt.ylim(xx2.min(), xx2.max())\n",
    "    \n",
    "    for inx, cl in enumerate(np.unique(y)):\n",
    "        plt.scatter(x=X[y==cl, 0], y=X[y==cl, 1], alpha=0.8, c=cmap(inx),\n",
    "                   marker=markers[inx], label=cl)\n",
    "    "
   ]
  },
  {
   "cell_type": "code",
   "execution_count": 89,
   "metadata": {
    "collapsed": false
   },
   "outputs": [
    {
     "name": "stderr",
     "output_type": "stream",
     "text": [
      "C:\\Program Files\\Anaconda\\lib\\site-packages\\ipykernel\\__main__.py:46: VisibleDeprecationWarning: boolean index did not match indexed array along dimension 0; dimension is 100 but corresponding boolean dimension is 101\n"
     ]
    },
    {
     "ename": "IndexError",
     "evalue": "index 100 is out of bounds for axis 0 with size 100",
     "output_type": "error",
     "traceback": [
      "\u001b[0;31m---------------------------------------------------------------------------\u001b[0m",
      "\u001b[0;31mIndexError\u001b[0m                                Traceback (most recent call last)",
      "\u001b[0;32m<ipython-input-89-d924a43f866a>\u001b[0m in \u001b[0;36m<module>\u001b[0;34m()\u001b[0m\n\u001b[0;32m----> 1\u001b[0;31m \u001b[0mplot_decision_regions\u001b[0m\u001b[1;33m(\u001b[0m\u001b[0mX\u001b[0m\u001b[1;33m,\u001b[0m \u001b[0my\u001b[0m\u001b[1;33m,\u001b[0m \u001b[0mppn\u001b[0m\u001b[1;33m,\u001b[0m \u001b[0mresolution\u001b[0m\u001b[1;33m=\u001b[0m\u001b[1;36m0.02\u001b[0m\u001b[1;33m)\u001b[0m\u001b[1;33m\u001b[0m\u001b[0m\n\u001b[0m\u001b[1;32m      2\u001b[0m \u001b[1;33m\u001b[0m\u001b[0m\n\u001b[1;32m      3\u001b[0m \u001b[0mplt\u001b[0m\u001b[1;33m.\u001b[0m\u001b[0mxlabel\u001b[0m\u001b[1;33m(\u001b[0m\u001b[1;34m'花径长度'\u001b[0m\u001b[1;33m)\u001b[0m\u001b[1;33m\u001b[0m\u001b[0m\n\u001b[1;32m      4\u001b[0m \u001b[0mplt\u001b[0m\u001b[1;33m.\u001b[0m\u001b[0mylabel\u001b[0m\u001b[1;33m(\u001b[0m\u001b[1;34m'花瓣长度'\u001b[0m\u001b[1;33m)\u001b[0m\u001b[1;33m\u001b[0m\u001b[0m\n\u001b[1;32m      5\u001b[0m \u001b[0mplt\u001b[0m\u001b[1;33m.\u001b[0m\u001b[0mlegend\u001b[0m\u001b[1;33m(\u001b[0m\u001b[0mloc\u001b[0m\u001b[1;33m=\u001b[0m\u001b[1;34m'upper left'\u001b[0m\u001b[1;33m)\u001b[0m\u001b[1;33m\u001b[0m\u001b[0m\n",
      "\u001b[0;32m<ipython-input-88-cf8cb765018a>\u001b[0m in \u001b[0;36mplot_decision_regions\u001b[0;34m(X, y, classifier, resolution)\u001b[0m\n\u001b[1;32m     44\u001b[0m \u001b[1;33m\u001b[0m\u001b[0m\n\u001b[1;32m     45\u001b[0m     \u001b[1;32mfor\u001b[0m \u001b[0minx\u001b[0m\u001b[1;33m,\u001b[0m \u001b[0mcl\u001b[0m \u001b[1;32min\u001b[0m \u001b[0menumerate\u001b[0m\u001b[1;33m(\u001b[0m\u001b[0mnp\u001b[0m\u001b[1;33m.\u001b[0m\u001b[0munique\u001b[0m\u001b[1;33m(\u001b[0m\u001b[0my\u001b[0m\u001b[1;33m)\u001b[0m\u001b[1;33m)\u001b[0m\u001b[1;33m:\u001b[0m\u001b[1;33m\u001b[0m\u001b[0m\n\u001b[0;32m---> 46\u001b[0;31m         plt.scatter(x=X[y==cl, 0], y=X[y==cl, 1], alpha=0.8, c=cmap(inx),\n\u001b[0m\u001b[1;32m     47\u001b[0m                    marker=markers[inx], label=cl)\n\u001b[1;32m     48\u001b[0m \u001b[1;33m\u001b[0m\u001b[0m\n",
      "\u001b[0;31mIndexError\u001b[0m: index 100 is out of bounds for axis 0 with size 100"
     ]
    }
   ],
   "source": [
    "plot_decision_regions(X, y, ppn, resolution=0.02)\n",
    "\n",
    "plt.xlabel('花径长度')\n",
    "plt.ylabel('花瓣长度')\n",
    "plt.legend(loc='upper left')\n",
    "plt.show()"
   ]
  },
  {
   "cell_type": "code",
   "execution_count": null,
   "metadata": {
    "collapsed": true
   },
   "outputs": [],
   "source": []
  },
  {
   "cell_type": "code",
   "execution_count": null,
   "metadata": {
    "collapsed": true
   },
   "outputs": [],
   "source": []
  }
 ],
 "metadata": {
  "kernelspec": {
   "display_name": "Python 3",
   "language": "python",
   "name": "python3"
  },
  "language_info": {
   "codemirror_mode": {
    "name": "ipython",
    "version": 3
   },
   "file_extension": ".py",
   "mimetype": "text/x-python",
   "name": "python",
   "nbconvert_exporter": "python",
   "pygments_lexer": "ipython3",
   "version": "3.6.0"
  }
 },
 "nbformat": 4,
 "nbformat_minor": 2
}
